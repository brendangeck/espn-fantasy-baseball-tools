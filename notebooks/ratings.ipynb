{
 "cells": [
  {
   "cell_type": "markdown",
   "metadata": {},
   "source": [
    "# Ratings"
   ]
  },
  {
   "cell_type": "code",
   "execution_count": 1,
   "metadata": {},
   "outputs": [],
   "source": [
    "import pandas as pd"
   ]
  },
  {
   "cell_type": "code",
   "execution_count": 20,
   "metadata": {},
   "outputs": [],
   "source": [
    "catcher_projections_df = pd.read_csv('../data/projections/positions/catcher.csv')\n",
    "first_base_projections_df = pd.read_csv('../data/projections/positions/first-base.csv')\n",
    "second_base_projections_df = pd.read_csv('../data/projections/positions/second-base.csv')\n",
    "third_base_projections_df = pd.read_csv('../data/projections/positions/third-base.csv')\n",
    "shortstop_projections_df = pd.read_csv('../data/projections/positions/shortstop.csv')\n",
    "outfield_projections_df = pd.read_csv('../data/projections/positions/outfield.csv')\n",
    "designated_hitter_projections_df = pd.read_csv('../data/projections/positions/designated-hitter.csv')\n",
    "starter_projections_df = pd.read_csv('../data/projections/positions/starter.csv')\n",
    "reliever_projections_df = pd.read_csv('../data/projections/positions/reliever.csv')"
   ]
  },
  {
   "cell_type": "code",
   "execution_count": 21,
   "metadata": {},
   "outputs": [],
   "source": [
    "points_lookup = {\n",
    "    'batting': {\n",
    "        'R': 1,\n",
    "        'TB': 1,\n",
    "        'RBI': 1,\n",
    "        'BB': 1,\n",
    "        'K': -1,\n",
    "        'SB': 1\n",
    "    },\n",
    "    'pitching': {\n",
    "        'IP': 3,\n",
    "        'H': -1,\n",
    "        'ER': -2,\n",
    "        'HD': 2,\n",
    "        'BB': -1,\n",
    "        'K': 1,\n",
    "        'W': 2,\n",
    "        'L': -2,\n",
    "        'SV': 5\n",
    "    }\n",
    "}"
   ]
  },
  {
   "cell_type": "code",
   "execution_count": 22,
   "metadata": {},
   "outputs": [],
   "source": [
    "def calculate_batter_fantasy_points(df):\n",
    "    # Create a copy with just needed columns\n",
    "    result_df = df[['Name', 'Team']].copy()\n",
    "    \n",
    "    # Calculate total bases\n",
    "    total_bases = (df['1B'] + \n",
    "                  (2 * df['2B']) + \n",
    "                  (3 * df['3B']) + \n",
    "                  (4 * df['HR']))\n",
    "\n",
    "    # Calculate fantasy points\n",
    "    fantasy_points = (\n",
    "        points_lookup['batting']['R'] * df['R'] +\n",
    "        points_lookup['batting']['TB'] * total_bases + \n",
    "        points_lookup['batting']['RBI'] * df['RBI'] +\n",
    "        points_lookup['batting']['BB'] * df['BB'] +\n",
    "        points_lookup['batting']['K'] * df['SO'] +\n",
    "        points_lookup['batting']['SB'] * df['SB']\n",
    "    )\n",
    "\n",
    "    # Add calculated columns to new dataframe\n",
    "    result_df = result_df.assign(\n",
    "        FPTS=fantasy_points,\n",
    "    )\n",
    "    \n",
    "    return result_df\n",
    "\n",
    "# Calculate fantasy points for each position\n",
    "catcher_fpoints_df = calculate_batter_fantasy_points(catcher_projections_df)\n",
    "first_base_fpoints_df = calculate_batter_fantasy_points(first_base_projections_df)\n",
    "second_base_fpoints_df = calculate_batter_fantasy_points(second_base_projections_df)\n",
    "third_base_fpoints_df = calculate_batter_fantasy_points(third_base_projections_df)\n",
    "shortstop_fpoints_df = calculate_batter_fantasy_points(shortstop_projections_df)\n",
    "outfield_fpoints_df = calculate_batter_fantasy_points(outfield_projections_df)\n",
    "designated_hitter_fpoints_df = calculate_batter_fantasy_points(designated_hitter_projections_df)"
   ]
  },
  {
   "cell_type": "code",
   "execution_count": 23,
   "metadata": {},
   "outputs": [],
   "source": [
    "def calculate_pitcher_fantasy_points(df):\n",
    "    # Create a copy with just needed columns\n",
    "    result_df = df[['Name', 'Team']].copy()\n",
    "    \n",
    "    # Calculate fantasy points\n",
    "    fantasy_points = (\n",
    "        points_lookup['pitching']['IP'] * df['IP'] +\n",
    "        points_lookup['pitching']['H'] * df['H'] +\n",
    "        points_lookup['pitching']['ER'] * df['ER'] +\n",
    "        points_lookup['pitching']['BB'] * df['BB'] +\n",
    "        points_lookup['pitching']['K'] * df['SO'] +\n",
    "        points_lookup['pitching']['W'] * df['W'] +\n",
    "        points_lookup['pitching']['L'] * df['L'] +\n",
    "        points_lookup['pitching']['SV'] * df['SV']\n",
    "    )\n",
    "\n",
    "    # Add calculated columns to new dataframe \n",
    "    result_df = result_df.assign(\n",
    "        FPTS=fantasy_points,\n",
    "    )\n",
    "    \n",
    "    return result_df\n",
    "\n",
    "# Calculate fantasy points for pitchers\n",
    "pitcher_fpoints_df = pd.concat([\n",
    "    calculate_pitcher_fantasy_points(starter_projections_df),\n",
    "    calculate_pitcher_fantasy_points(reliever_projections_df)\n",
    "]).reset_index(drop=True)"
   ]
  },
  {
   "cell_type": "code",
   "execution_count": 24,
   "metadata": {},
   "outputs": [],
   "source": [
    "def calculate_vorp(position_df, replacement_rank):\n",
    "    # Sort by fantasy points in descending order\n",
    "    sorted_df = position_df.sort_values('FPTS', ascending=False).reset_index(drop=True)\n",
    "    \n",
    "    # Get replacement level points (player at replacement_rank)\n",
    "    if len(sorted_df) >= replacement_rank:\n",
    "        replacement_points = sorted_df.iloc[replacement_rank-1]['FPTS']\n",
    "    else:\n",
    "        replacement_points = sorted_df.iloc[-1]['FPTS']\n",
    "    \n",
    "    # Calculate VORP for all players\n",
    "    sorted_df['VORP'] = sorted_df['FPTS'] - replacement_points\n",
    "    \n",
    "    return sorted_df\n",
    "\n",
    "# Calculate VORP for each position using appropriate replacement ranks\n",
    "catcher_fpts_vorp_df = calculate_vorp(catcher_fpoints_df, 12)\n",
    "first_base_fpts_vorp_df = calculate_vorp(first_base_fpoints_df, 15)\n",
    "second_base_fpts_vorp_df = calculate_vorp(second_base_fpoints_df, 15)\n",
    "third_base_fpts_vorp_df = calculate_vorp(third_base_fpoints_df, 15)\n",
    "shortstop_fpts_vorp_df = calculate_vorp(shortstop_fpoints_df, 15)\n",
    "outfield_fpts_vorp_df = calculate_vorp(outfield_fpoints_df, 40)\n",
    "designated_hitter_fpts_vorp_df = calculate_vorp(designated_hitter_fpoints_df, 15)\n",
    "pitcher_fpts_vorp_df = calculate_vorp(pitcher_fpoints_df, 70)"
   ]
  },
  {
   "cell_type": "code",
   "execution_count": 25,
   "metadata": {},
   "outputs": [],
   "source": [
    "# Combine all position dataframes into one unified dataframe\n",
    "all_positions_df = pd.concat([\n",
    "    catcher_fpts_vorp_df.assign(Position='C'),\n",
    "    first_base_fpts_vorp_df.assign(Position='1B'),\n",
    "    second_base_fpts_vorp_df.assign(Position='2B'),\n",
    "    third_base_fpts_vorp_df.assign(Position='3B'),\n",
    "    shortstop_fpts_vorp_df.assign(Position='SS'),\n",
    "    outfield_fpts_vorp_df.assign(Position='OF'),\n",
    "    designated_hitter_fpts_vorp_df.assign(Position='DH'),\n",
    "    pitcher_fpts_vorp_df.assign(Position='P')\n",
    "]).reset_index(drop=True)\n",
    "\n",
    "# Create sorted dataframes by FPTS and VORP\n",
    "all_positions_fpts_sorted_df = all_positions_df.sort_values('FPTS', ascending=False).reset_index(drop=True)\n",
    "\n",
    "# Save to CSV\n",
    "all_positions_fpts_sorted_df.to_csv('../data/generated/all-positions-fpts.csv', index=False)"
   ]
  }
 ],
 "metadata": {
  "kernelspec": {
   "display_name": "venv",
   "language": "python",
   "name": "python3"
  },
  "language_info": {
   "codemirror_mode": {
    "name": "ipython",
    "version": 3
   },
   "file_extension": ".py",
   "mimetype": "text/x-python",
   "name": "python",
   "nbconvert_exporter": "python",
   "pygments_lexer": "ipython3",
   "version": "3.13.2"
  }
 },
 "nbformat": 4,
 "nbformat_minor": 2
}
