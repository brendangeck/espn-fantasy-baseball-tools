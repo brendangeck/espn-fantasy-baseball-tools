{
 "cells": [
  {
   "cell_type": "markdown",
   "metadata": {
    "vscode": {
     "languageId": "bat"
    }
   },
   "source": [
    "# Pitcher Physical\n",
    "\n",
    "This captures pitcher phyical traits (height, weight, handedness)"
   ]
  },
  {
   "cell_type": "code",
   "execution_count": 9,
   "metadata": {},
   "outputs": [
    {
     "name": "stdout",
     "output_type": "stream",
     "text": [
      "Loaded dataset with 10 entries\n",
      "Saved physical data for 536 pitchers\n",
      "\n",
      "Errors found:\n"
     ]
    }
   ],
   "source": [
    "import pandas as pd\n",
    "import requests\n",
    "import time\n",
    "from pathlib import Path\n",
    "\n",
    "# Load and combine the game stats CSVs\n",
    "pitcher_games = pd.read_csv(\"../../data/processed/pitcher_game_stats.csv\")\n",
    "\n",
    "# Get unique pitcher IDs\n",
    "pitcher_ids = pitcher_games['player_id'].unique()\n",
    "\n",
    "# Checkpoint file path\n",
    "checkpoint_file = Path('../../data/interim/pitcher_physical_checkpoint.csv')\n",
    "\n",
    "# Load existing progress if checkpoint exists\n",
    "if checkpoint_file.exists():\n",
    "    physical_df = pd.read_csv(checkpoint_file)\n",
    "    print(f'Loaded dataset with {physical_df.shape[0]} entries')\n",
    "    processed_pitchers = set(physical_df['player_id'])\n",
    "else:\n",
    "    physical_df = pd.DataFrame(columns=['player_id', 'name', 'height_inches', 'weight', 'throws', 'birth_date'])\n",
    "    processed_pitchers = set()\n",
    "    # Create checkpoint file and parent directories if they don't exist\n",
    "    checkpoint_file.parent.mkdir(parents=True, exist_ok=True)\n",
    "    physical_df.to_csv(checkpoint_file, index=False)\n",
    "\n",
    "# Get pitchers left to process\n",
    "remaining_pitchers = [pid for pid in pitcher_ids if pid not in processed_pitchers]\n",
    "\n",
    "# Track errors\n",
    "errors = []\n",
    "\n",
    "# MLB API endpoint\n",
    "mlb_api = \"https://statsapi.mlb.com/api/v1/people/{}\"\n",
    "\n",
    "# Process in batches\n",
    "batch_size = 50\n",
    "for i in range(0, len(remaining_pitchers), batch_size):\n",
    "    batch = remaining_pitchers[i:i + batch_size]\n",
    "    \n",
    "    # Make parallel requests using list comprehension\n",
    "    responses = [requests.get(mlb_api.format(pid)) for pid in batch]\n",
    "    time.sleep(1)  # Rate limiting between batches\n",
    "    \n",
    "    # Process responses\n",
    "    batch_results = []\n",
    "    for pitcher_id, response in zip(batch, responses):\n",
    "        try:\n",
    "            if response.status_code != 200:\n",
    "                errors.append(f\"Pitcher {pitcher_id}: Bad status code {response.status_code}\")\n",
    "                continue\n",
    "                \n",
    "            data = response.json()\n",
    "            \n",
    "            if 'people' not in data or len(data['people']) == 0:\n",
    "                errors.append(f\"Pitcher {pitcher_id}: Missing player data\")\n",
    "                continue\n",
    "                \n",
    "            player = data['people'][0]\n",
    "            \n",
    "            # Parse height string (e.g. \"6' 7\"\") into total inches\n",
    "            height = player.get('height', '')\n",
    "            try:\n",
    "                height_ft = int(height.split(\"'\")[0])\n",
    "                height_in = int(height.split(\"'\")[1].strip().strip('\"'))\n",
    "                height_inches = (height_ft * 12) + height_in\n",
    "            except:\n",
    "                height_inches = None\n",
    "                \n",
    "            batch_results.append({\n",
    "                'player_id': pitcher_id,\n",
    "                'name': player.get('fullName'),\n",
    "                'height_inches': height_inches,\n",
    "                'weight': player.get('weight'),\n",
    "                'throws': player.get('pitchHand', {}).get('code'),\n",
    "                'birth_date': player.get('birthDate')\n",
    "            })\n",
    "                \n",
    "        except Exception as e:\n",
    "            errors.append(f\"Pitcher {pitcher_id}: Error processing data: {str(e)}\")\n",
    "\n",
    "    # Append batch results to dataframe\n",
    "    batch_df = pd.DataFrame(batch_results)\n",
    "    physical_df = pd.concat([physical_df, batch_df], ignore_index=True)\n",
    "    \n",
    "    # Save checkpoint\n",
    "    physical_df.to_csv(checkpoint_file, index=False)\n",
    "\n",
    "# Save final results\n",
    "physical_df.to_csv(\"../../data/processed/pitcher_physical.csv\", index=False)\n",
    "print(f\"Saved physical data for {len(physical_df)} pitchers\")\n",
    "\n",
    "# Print errors\n",
    "print(\"\\nErrors found:\")\n",
    "for error in errors:\n",
    "    print(error)\n"
   ]
  }
 ],
 "metadata": {
  "kernelspec": {
   "display_name": "venv",
   "language": "python",
   "name": "python3"
  },
  "language_info": {
   "codemirror_mode": {
    "name": "ipython",
    "version": 3
   },
   "file_extension": ".py",
   "mimetype": "text/x-python",
   "name": "python",
   "nbconvert_exporter": "python",
   "pygments_lexer": "ipython3",
   "version": "3.13.2"
  }
 },
 "nbformat": 4,
 "nbformat_minor": 2
}
