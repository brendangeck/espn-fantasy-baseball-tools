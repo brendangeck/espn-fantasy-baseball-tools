{
 "cells": [
  {
   "cell_type": "markdown",
   "metadata": {},
   "source": [
    "# Pitcher Game Cleaned\n",
    "\n",
    "Clean and oragnize the pitcher game stat logs with additional engineered features such as k-percentage, csw-percentage, and rolling windows"
   ]
  },
  {
   "cell_type": "code",
   "execution_count": 8,
   "metadata": {},
   "outputs": [],
   "source": [
    "import pandas as pd\n",
    "\n",
    "# Load all three datasets\n",
    "pitcher_logs_2022 = pd.read_csv(\"../../data/historical/pitcher_game_stats_2022.csv\", parse_dates=['game_date'])\n",
    "pitcher_logs_2023 = pd.read_csv(\"../../data/historical/pitcher_game_stats_2023.csv\", parse_dates=['game_date'])\n",
    "pitcher_logs_2024 = pd.read_csv(\"../../data/historical/pitcher_game_stats_2024.csv\", parse_dates=['game_date'])\n",
    "\n",
    "# Combine into single dataset\n",
    "pitcher_logs_full = pd.concat([pitcher_logs_2022, pitcher_logs_2023, pitcher_logs_2024], ignore_index=True)"
   ]
  },
  {
   "cell_type": "code",
   "execution_count": 9,
   "metadata": {},
   "outputs": [],
   "source": [
    "# Create new dataframe with all needed columns\n",
    "pitcher_logs_full_team = pd.DataFrame({\n",
    "    'game_pk': pitcher_logs_full['game_pk'],\n",
    "    'game_date': pitcher_logs_full['game_date'],\n",
    "    'player_name': pitcher_logs_full['player_name'],\n",
    "    'player_id': pitcher_logs_full['pitcher'],\n",
    "    'team': pitcher_logs_full['team'],\n",
    "    'opp': pitcher_logs_full['opp'],\n",
    "    'is_home': pitcher_logs_full['team'] == pitcher_logs_full['home_team'],\n",
    "    'total_pitches': pitcher_logs_full['total_pitches'],\n",
    "    'strikeouts': pitcher_logs_full['strikeouts'],\n",
    "    'csw_count': pitcher_logs_full['csw_count'],\n",
    "    'batters_faced': pitcher_logs_full['batters_faced']\n",
    "})"
   ]
  },
  {
   "cell_type": "code",
   "execution_count": 10,
   "metadata": {},
   "outputs": [],
   "source": [
    "# Sort by pitcher and date to prepare for trailing stats\n",
    "pitcher_logs_full_sorted = pitcher_logs_full_team.sort_values(by=[\"player_id\", \"game_date\"]).copy()\n",
    "\n",
    "# Compute per-game rates\n",
    "pitcher_logs_full_sorted['k_pct'] = (\n",
    "    pitcher_logs_full_sorted['strikeouts'] / \n",
    "    pitcher_logs_full_sorted['batters_faced'].replace(0, pd.NA)\n",
    ")\n",
    "\n",
    "pitcher_logs_full_sorted['csw_pct'] = (\n",
    "    pitcher_logs_full_sorted['csw_count'] / \n",
    "    pitcher_logs_full_sorted['total_pitches'].replace(0, pd.NA)\n",
    ")\n",
    "\n",
    "# Compute EWMA of K% and CSW% (using halflife = 7 games)\n",
    "pitcher_logs_full_sorted['pit_ewma_k_pct'] = (\n",
    "    pitcher_logs_full_sorted.groupby('player_id')['k_pct']\n",
    "    .transform(lambda x: x.shift(1).ewm(halflife=7, min_periods=1).mean())\n",
    ")\n",
    "\n",
    "pitcher_logs_full_sorted['pit_ewma_csw_pct'] = (\n",
    "    pitcher_logs_full_sorted.groupby('player_id')['csw_pct']\n",
    "    .transform(lambda x: x.shift(1).ewm(halflife=7, min_periods=1).mean())\n",
    ")\n",
    "\n",
    "# Extract season from game date\n",
    "pitcher_logs_full_sorted['season'] = pitcher_logs_full_sorted['game_date'].dt.year"
   ]
  },
  {
   "cell_type": "code",
   "execution_count": 11,
   "metadata": {},
   "outputs": [],
   "source": [
    "# Select only the columns you want in your training set\n",
    "pitcher_training_set = pitcher_logs_full_sorted[[\n",
    "    'game_pk',\n",
    "    'game_date', \n",
    "    'season',\n",
    "    'player_id',\n",
    "    'player_name',\n",
    "    'team',\n",
    "    'opp',\n",
    "    'is_home',\n",
    "    'pit_ewma_k_pct',\n",
    "    'pit_ewma_csw_pct',\n",
    "    'strikeouts',\n",
    "]].copy()\n",
    "\n",
    "pitcher_training_set = pitcher_training_set.dropna()\n",
    "\n",
    "# Optional: sort for readability\n",
    "pitcher_training_set = pitcher_training_set.sort_values(['player_id', 'game_date'])\n",
    "\n",
    "# Save to CSV\n",
    "pitcher_training_set.to_csv(\"../../data/processed/pitcher_game_stats.csv\", index=False)"
   ]
  }
 ],
 "metadata": {
  "kernelspec": {
   "display_name": "venv",
   "language": "python",
   "name": "python3"
  },
  "language_info": {
   "codemirror_mode": {
    "name": "ipython",
    "version": 3
   },
   "file_extension": ".py",
   "mimetype": "text/x-python",
   "name": "python",
   "nbconvert_exporter": "python",
   "pygments_lexer": "ipython3",
   "version": "3.13.2"
  }
 },
 "nbformat": 4,
 "nbformat_minor": 2
}
