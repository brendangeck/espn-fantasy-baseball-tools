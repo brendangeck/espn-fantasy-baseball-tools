{
 "cells": [
  {
   "cell_type": "markdown",
   "metadata": {},
   "source": [
    "# Pitcher K Dataset\n",
    "\n",
    "Assemble the dataset used to train pitcher k for a single game\n",
    "\n",
    "#### Improvements that can be made\n",
    "- Don't use opponent previous season for current predictions. Especially later in the season, we should have better data.\n",
    "- Pitcher handedness, left handed batters in lineup, right handed batters in lineup"
   ]
  },
  {
   "cell_type": "code",
   "execution_count": 130,
   "metadata": {},
   "outputs": [],
   "source": [
    "import pandas as pd\n",
    "from sklearn.preprocessing import LabelEncoder"
   ]
  },
  {
   "cell_type": "code",
   "execution_count": 131,
   "metadata": {},
   "outputs": [],
   "source": [
    "# Load the datasets\n",
    "pitcher_physical = pd.read_csv(\"../../data/processed/pitcher_physical.csv\", parse_dates=[\"birth_date\"])\n",
    "pitcher_game_logs = pd.read_csv(\"../../data/processed/pitcher_game_logs.csv\", parse_dates=[\"game_date\"])\n",
    "batter_game_logs = pd.read_csv(\"../../data/processed/batter_game_logs.csv\", parse_dates=[\"game_date\"])\n",
    "weather_data = pd.read_csv(\"../../data/historical/game_weather.csv\")"
   ]
  },
  {
   "cell_type": "code",
   "execution_count": 132,
   "metadata": {},
   "outputs": [],
   "source": [
    "# ===============================\n",
    "# CREATE THE BASE MATCHUPS TABLE\n",
    "# ===============================\n",
    "\n",
    "# Create the pitcher matchups table.\n",
    "pitcher_matchups = pitcher_game_logs[[\n",
    "    \"game_pk\", \"pitcher\", \"game_date\", \"team\", \"opp\", \"pitcher_handedness\", 'is_starter'\n",
    "]].drop_duplicates()"
   ]
  },
  {
   "cell_type": "code",
   "execution_count": 133,
   "metadata": {},
   "outputs": [
    {
     "name": "stdout",
     "output_type": "stream",
     "text": [
      "Pitcher matchups: (67241, 7)\n"
     ]
    }
   ],
   "source": [
    "print(\"Pitcher matchups:\", pitcher_matchups.shape)"
   ]
  },
  {
   "cell_type": "code",
   "execution_count": 134,
   "metadata": {},
   "outputs": [],
   "source": [
    "# ===============================\n",
    "# BATTERS FACED AND PITCHES THROWN\n",
    "# ===============================\n",
    "\n",
    "# Aggregate per pitcher per game_date\n",
    "workload_trailing = (\n",
    "    pitcher_game_logs.groupby(['pitcher', 'game_date'], as_index=False)\n",
    "    .agg(\n",
    "        total_pitches_game=('total_pitches', 'sum'),\n",
    "        batters_faced_game=('batters_faced', 'sum'),\n",
    "    )\n",
    ")\n",
    "\n",
    "# Sort by pitcher/date\n",
    "workload_trailing = workload_trailing.sort_values(['pitcher', 'game_date'])\n",
    "\n",
    "# Compute trailing stats up *through* this game\n",
    "workload_trailing['pit_trailing_5_bf_avg'] = (\n",
    "    workload_trailing\n",
    "    .groupby('pitcher')['batters_faced_game']\n",
    "    .transform(lambda x: x.rolling(window=5, min_periods=1).mean())\n",
    ")\n",
    "\n",
    "workload_trailing['pit_trailing_5_pitches_avg'] = (\n",
    "    workload_trailing\n",
    "    .groupby('pitcher')['total_pitches_game']\n",
    "    .transform(lambda x: x.rolling(window=5, min_periods=1).mean())\n",
    ")\n",
    "\n",
    "\n",
    "# Shift the GAME DATE *back* by 1 so these stats line up with the NEXT GAME\n",
    "workload_trailing['date'] = (\n",
    "    workload_trailing\n",
    "    .groupby('pitcher')['game_date']\n",
    "    .shift(-1)\n",
    ")\n",
    "\n",
    "# Optional: drop intermediate columns if not needed\n",
    "workload_trailing = workload_trailing[['pitcher', 'date', 'pit_trailing_5_bf_avg', 'pit_trailing_5_pitches_avg']]\n"
   ]
  },
  {
   "cell_type": "code",
   "execution_count": 135,
   "metadata": {},
   "outputs": [
    {
     "name": "stdout",
     "output_type": "stream",
     "text": [
      "Workload trailing df (67206, 4)\n"
     ]
    }
   ],
   "source": [
    "print(\"Workload trailing df\", workload_trailing.shape)"
   ]
  },
  {
   "cell_type": "code",
   "execution_count": 136,
   "metadata": {},
   "outputs": [],
   "source": [
    "# ===============================\n",
    "# BUILD TRAILING PITCHER STATS TABLE\n",
    "# ===============================\n",
    "\n",
    "# Pivot per-pitcher per-hand splits\n",
    "pitcher_team = pitcher_game_logs[[\"game_pk\", \"pitcher\", \"team\"]].drop_duplicates()\n",
    "\n",
    "pitcher_pivoted = pitcher_game_logs.pivot_table(\n",
    "    index=[\"game_pk\", \"pitcher\", \"game_date\"],\n",
    "    columns=\"batter_stance\",\n",
    "    values=[\"total_pitches\", \"batters_faced\", \"strikeouts\", \"walks\",\n",
    "            \"called_strikes\", \"swinging_strikes\", \"swings\", \"contact_swings\"],\n",
    "    aggfunc=\"sum\",\n",
    "    fill_value=0\n",
    ").reset_index()\n",
    "\n",
    "# Flatten only multi-indexed columns\n",
    "if isinstance(pitcher_pivoted.columns, pd.MultiIndex):\n",
    "    pitcher_pivoted.columns = [\n",
    "        f\"{col[0]}_vs_{col[1].lower()}\" if col[1] in [\"L\", \"R\"] else col[0]\n",
    "        for col in pitcher_pivoted.columns\n",
    "    ]\n",
    "# Rename pitcher_team columns to have _team suffix before merge\n",
    "pitcher_team = pitcher_team.rename(columns={\n",
    "    \"game_pk\": \"game_pk_team\",\n",
    "    \"team\": \"team_team\"\n",
    "})\n",
    "\n",
    "# Merge with renamed columns\n",
    "pitcher_pivoted = pitcher_pivoted.merge(\n",
    "    pitcher_team,\n",
    "    left_on=[\"game_pk\", \"pitcher\"],\n",
    "    right_on=[\"game_pk_team\", \"pitcher\"]\n",
    ")\n",
    "\n",
    "# Drop the extra team column\n",
    "pitcher_pivoted = pitcher_pivoted.drop(columns=[\"game_pk_team\", \"team_team\"])\n",
    "\n",
    "# Calculate raw rates\n",
    "pitcher_pivoted[\"k_perc_vs_lhh\"] = pitcher_pivoted[\"strikeouts_vs_l\"] / pitcher_pivoted[\"batters_faced_vs_l\"]\n",
    "pitcher_pivoted[\"k_perc_vs_rhh\"] = pitcher_pivoted[\"strikeouts_vs_r\"] / pitcher_pivoted[\"batters_faced_vs_r\"]\n",
    "pitcher_pivoted[\"csw_perc_vs_lhh\"] = (pitcher_pivoted[\"called_strikes_vs_l\"] + pitcher_pivoted[\"swinging_strikes_vs_l\"]) / pitcher_pivoted[\"total_pitches_vs_l\"]\n",
    "pitcher_pivoted[\"csw_perc_vs_rhh\"] = (pitcher_pivoted[\"called_strikes_vs_r\"] + pitcher_pivoted[\"swinging_strikes_vs_r\"]) / pitcher_pivoted[\"total_pitches_vs_r\"]\n",
    "\n",
    "# EWMA\n",
    "pitcher_pivoted = pitcher_pivoted.sort_values([\"pitcher\", \"game_date\"])\n",
    "for col in [\"k_perc_vs_lhh\", \"k_perc_vs_rhh\", \"csw_perc_vs_lhh\", \"csw_perc_vs_rhh\"]:\n",
    "    pitcher_pivoted[\"pit_ewma_\" + col] = (\n",
    "        pitcher_pivoted.groupby(\"pitcher\")[col]\n",
    "        .transform(lambda x: x.ewm(halflife=3, adjust=False).mean().shift(1))\n",
    "    )\n",
    "\n",
    "# Final trailing stats table\n",
    "# Shift the values such that the \n",
    "\n",
    "# Sort by pitcher and game_date\n",
    "pitcher_pivoted = pitcher_pivoted.sort_values([\"pitcher\", \"game_date\"])\n",
    "\n",
    "# Shift all the columns up by one. This will make it so the current row's date is actually the date for the NEXT game\n",
    "# We need this because if we just merge on date without shifting, it will include the OUTCOME of that game in the prediction for that same game (leakage)\n",
    "pitcher_pivoted[\"date\"] = (\n",
    "    pitcher_pivoted.groupby(\"pitcher\")[\"game_date\"]\n",
    "    .shift(-1)\n",
    ")\n",
    "\n",
    "# Final trailing stats table\n",
    "pitcher_trailing_stats = pitcher_pivoted[[\n",
    "    \"pitcher\", \"date\",\n",
    "    \"pit_ewma_k_perc_vs_lhh\", \"pit_ewma_k_perc_vs_rhh\",\n",
    "    \"pit_ewma_csw_perc_vs_lhh\", \"pit_ewma_csw_perc_vs_rhh\"\n",
    "]].copy().reset_index(drop=True)\n"
   ]
  },
  {
   "cell_type": "code",
   "execution_count": 137,
   "metadata": {},
   "outputs": [
    {
     "name": "stdout",
     "output_type": "stream",
     "text": [
      "Pitcher trailing stats: (67241, 6)\n"
     ]
    }
   ],
   "source": [
    "print(\"Pitcher trailing stats:\", pitcher_trailing_stats.shape)"
   ]
  },
  {
   "cell_type": "code",
   "execution_count": 138,
   "metadata": {},
   "outputs": [],
   "source": [
    "# ===============================\n",
    "# BUILD TRAILING OPPONENT STATS TABLE\n",
    "# ===============================\n",
    "\n",
    "# ------ K% EWMA -------\n",
    "team_k_by_hand = (\n",
    "    batter_game_logs.groupby([\"game_date\", \"team\", \"pitcher_handedness\"])\n",
    "    .agg(\n",
    "        strikeouts=(\"strikeouts\", \"sum\"),\n",
    "        plate_appearances=(\"plate_appearances\", \"sum\")\n",
    "    )\n",
    "    .reset_index()\n",
    ")\n",
    "\n",
    "team_k_by_hand[\"k_perc\"] = team_k_by_hand[\"strikeouts\"] / team_k_by_hand[\"plate_appearances\"]\n",
    "\n",
    "team_k_by_hand = team_k_by_hand.sort_values(\"game_date\")\n",
    "team_k_by_hand[\"ewma_k_perc\"] = (\n",
    "    team_k_by_hand\n",
    "    .groupby([\"team\", \"pitcher_handedness\"])[\"k_perc\"]\n",
    "    .transform(lambda x: x.ewm(halflife=7, adjust=False).mean())\n",
    ")\n",
    "\n",
    "# Add next game date for proper alignment\n",
    "team_k_by_hand[\"date\"] = (\n",
    "    team_k_by_hand\n",
    "    .groupby([\"team\", \"pitcher_handedness\"])[\"game_date\"]\n",
    "    .shift(-1)\n",
    ")\n",
    "\n",
    "# Pivot to wide format\n",
    "k_ewma = team_k_by_hand.pivot(index=[\"date\", \"team\"], columns=\"pitcher_handedness\", values=\"ewma_k_perc\").reset_index()\n",
    "k_ewma.columns.name = None\n",
    "k_ewma = k_ewma.rename(columns={\"L\": \"opp_ewma_k_perc_vs_lhp\", \"R\": \"opp_ewma_k_perc_vs_rhp\"})\n",
    "\n",
    "\n",
    "# ------ CSW% EWMA -------\n",
    "team_csw_by_hand = (\n",
    "    batter_game_logs.groupby([\"game_date\", \"team\", \"pitcher_handedness\"])\n",
    "    .agg(\n",
    "        swinging_strikes=(\"swinging_strikes\", \"sum\"),\n",
    "        called_strikes=(\"called_strikes\", \"sum\"),\n",
    "        total_pitches_seen=(\"total_pitches_seen\", \"sum\")\n",
    "    )\n",
    "    .reset_index()\n",
    ")\n",
    "\n",
    "team_csw_by_hand[\"csw_perc\"] = (\n",
    "    (team_csw_by_hand[\"swinging_strikes\"] + team_csw_by_hand[\"called_strikes\"]) /\n",
    "    team_csw_by_hand[\"total_pitches_seen\"]\n",
    ")\n",
    "\n",
    "team_csw_by_hand = team_csw_by_hand.sort_values(\"game_date\")\n",
    "team_csw_by_hand[\"ewma_csw_perc\"] = (\n",
    "    team_csw_by_hand\n",
    "    .groupby([\"team\", \"pitcher_handedness\"])[\"csw_perc\"]\n",
    "    .transform(lambda x: x.ewm(halflife=3, adjust=False).mean())\n",
    ")\n",
    "\n",
    "# Align by actual next date\n",
    "team_csw_by_hand[\"date\"] = (\n",
    "    team_csw_by_hand\n",
    "    .groupby([\"team\", \"pitcher_handedness\"])[\"game_date\"]\n",
    "    .shift(-1)\n",
    ")\n",
    "\n",
    "# Pivot to wide format\n",
    "csw_ewma = team_csw_by_hand.pivot(index=[\"date\", \"team\"], columns=\"pitcher_handedness\", values=\"ewma_csw_perc\").reset_index()\n",
    "csw_ewma.columns.name = None\n",
    "csw_ewma = csw_ewma.rename(columns={\"L\": \"opp_ewma_csw_perc_vs_lhp\", \"R\": \"opp_ewma_csw_perc_vs_rhp\"})\n",
    "\n",
    "# ------ Contact% EWMA -------\n",
    "team_contact_by_hand = (\n",
    "    batter_game_logs.groupby([\"game_date\", \"team\", \"pitcher_handedness\"])\n",
    "    .agg(\n",
    "        contact_swings=(\"contact_swings\", \"sum\"),\n",
    "        swings=(\"swings\", \"sum\")\n",
    "    )\n",
    "    .reset_index()\n",
    ")\n",
    "\n",
    "team_contact_by_hand[\"contact_perc\"] = (\n",
    "    team_contact_by_hand[\"contact_swings\"] / \n",
    "    team_contact_by_hand[\"swings\"]\n",
    ")\n",
    "\n",
    "team_contact_by_hand = team_contact_by_hand.sort_values(\"game_date\")\n",
    "team_contact_by_hand[\"ewma_contact_perc\"] = (\n",
    "    team_contact_by_hand\n",
    "    .groupby([\"team\", \"pitcher_handedness\"])[\"contact_perc\"]\n",
    "    .transform(lambda x: x.ewm(halflife=3, adjust=False).mean())\n",
    ")\n",
    "\n",
    "# Align by actual next date\n",
    "team_contact_by_hand[\"date\"] = (\n",
    "    team_contact_by_hand\n",
    "    .groupby([\"team\", \"pitcher_handedness\"])[\"game_date\"]\n",
    "    .shift(-1)\n",
    ")\n",
    "\n",
    "# Pivot to wide format\n",
    "contact_ewma = team_contact_by_hand.pivot(index=[\"date\", \"team\"], columns=\"pitcher_handedness\", values=\"ewma_contact_perc\").reset_index()\n",
    "contact_ewma.columns.name = None\n",
    "contact_ewma = contact_ewma.rename(columns={\"L\": \"opp_ewma_contact_perc_vs_lhp\", \"R\": \"opp_ewma_contact_perc_vs_rhp\"})\n",
    "\n",
    "# ------ Final Opponent Trailing Stats ------\n",
    "opponent_trailing_stats = pd.merge(k_ewma, csw_ewma, on=[\"date\", \"team\"], how=\"outer\")\n",
    "opponent_trailing_stats = pd.merge(opponent_trailing_stats, contact_ewma, on=[\"date\", \"team\"], how=\"outer\")\n"
   ]
  },
  {
   "cell_type": "code",
   "execution_count": 139,
   "metadata": {},
   "outputs": [
    {
     "name": "stdout",
     "output_type": "stream",
     "text": [
      "Opponent trailing stats: (14912, 8)\n"
     ]
    }
   ],
   "source": [
    "print(\"Opponent trailing stats:\", opponent_trailing_stats.shape)"
   ]
  },
  {
   "cell_type": "code",
   "execution_count": 140,
   "metadata": {},
   "outputs": [],
   "source": [
    "# ===============================\n",
    "# BUILD OUTCOMES TABLE\n",
    "# ===============================\n",
    "\n",
    "# Aggregate strikeouts per pitcher per game\n",
    "starter_outcomes = (\n",
    "    pitcher_game_logs\n",
    "    .groupby([\"game_pk\", \"pitcher\"])\n",
    "    .agg(\n",
    "        strikeouts=(\"strikeouts\", \"sum\"),\n",
    "    )\n",
    "    .reset_index()\n",
    ")\n"
   ]
  },
  {
   "cell_type": "code",
   "execution_count": 141,
   "metadata": {},
   "outputs": [
    {
     "name": "stdout",
     "output_type": "stream",
     "text": [
      "Starter outcomes: (67241, 3)\n"
     ]
    }
   ],
   "source": [
    "print(\"Starter outcomes:\", starter_outcomes.shape)\n"
   ]
  },
  {
   "cell_type": "code",
   "execution_count": 142,
   "metadata": {},
   "outputs": [],
   "source": [
    "# ===============================\n",
    "# MERGE FINAL FULL TABLE\n",
    "# ===============================\n",
    "\n",
    "# --- Merge with pitcher trailing stats ---\n",
    "pitcher_trailing_stats = pitcher_trailing_stats.rename(columns={\"date\": \"pitcher_date\"})\n",
    "merged_df = pitcher_matchups.merge(\n",
    "    pitcher_trailing_stats,\n",
    "    how=\"left\",\n",
    "    left_on=[\"pitcher\", \"game_date\"],\n",
    "    right_on=[\"pitcher\", \"pitcher_date\"],\n",
    ")\n",
    "merged_df = merged_df.drop(columns=[\"pitcher_date\"])\n",
    "\n",
    "# --- Merge with workload trailing stats ---\n",
    "workload_trailing = workload_trailing.rename(columns={\"date\": \"workload_date\"})\n",
    "merged_df = merged_df.merge(\n",
    "    workload_trailing,\n",
    "    how=\"left\",\n",
    "    left_on=[\"pitcher\", \"game_date\"],\n",
    "    right_on=[\"pitcher\", \"workload_date\"],\n",
    ")\n",
    "merged_df = merged_df.drop(columns=[\"workload_date\"])\n",
    "\n",
    "# --- Merge with opponent trailing stats ---\n",
    "opponent_trailing_stats = opponent_trailing_stats.rename(columns={\"team\": \"opp_team\", \"date\": \"opp_date\"})\n",
    "merged_df = merged_df.merge(\n",
    "    opponent_trailing_stats,\n",
    "    how=\"left\",\n",
    "    left_on=[\"opp\", \"game_date\"],\n",
    "    right_on=[\"opp_team\", \"opp_date\"],\n",
    ")\n",
    "merged_df = merged_df.drop(columns=[\"opp_team\", \"opp_date\"])\n",
    "\n",
    "# --- Merge with weather ---\n",
    "merged_df = merged_df.merge(\n",
    "    weather_data,\n",
    "    how='left',\n",
    "    on='game_pk'\n",
    ")\n",
    "\n",
    "# --- Merge with starter outcomes ---\n",
    "merged_df = merged_df.merge(\n",
    "    starter_outcomes,\n",
    "    how='inner',\n",
    "    on=['game_pk', 'pitcher']\n",
    ")"
   ]
  },
  {
   "cell_type": "code",
   "execution_count": 143,
   "metadata": {},
   "outputs": [
    {
     "name": "stdout",
     "output_type": "stream",
     "text": [
      "Merged DF: (67311, 24)\n"
     ]
    }
   ],
   "source": [
    "print(\"Merged DF:\", merged_df.shape)\n"
   ]
  },
  {
   "cell_type": "code",
   "execution_count": 150,
   "metadata": {},
   "outputs": [],
   "source": [
    "# Create a clean copy of the merged dataframe\n",
    "cleaned_df = merged_df.copy()\n",
    "\n",
    "# Drop rows with NaN values in key columns\n",
    "cleaned_df = cleaned_df.dropna(subset=[\n",
    "    'pit_ewma_k_perc_vs_lhh',\n",
    "    'pit_ewma_k_perc_vs_rhh', \n",
    "    'pit_ewma_csw_perc_vs_lhh',\n",
    "    'pit_ewma_csw_perc_vs_rhh',\n",
    "    'opp_ewma_k_perc_vs_lhp',\n",
    "    'opp_ewma_k_perc_vs_rhp',\n",
    "    'opp_ewma_csw_perc_vs_lhp',\n",
    "    'opp_ewma_csw_perc_vs_rhp',\n",
    "    'opp_ewma_contact_perc_vs_lhp',\n",
    "    'opp_ewma_contact_perc_vs_rhp',\n",
    "])\n",
    "\n",
    "# Fill empty wind direction values with \"No Wind\"\n",
    "cleaned_df['wind_direction'] = cleaned_df['wind_direction'].fillna('No Wind')\n",
    "cleaned_df['temp'] = cleaned_df['temp'].fillna(70)\n",
    "cleaned_df['wind_speed'] = cleaned_df['wind_speed'].fillna(0)\n",
    "\n",
    "# Initialize label encoders\n",
    "handedness_encoder = LabelEncoder()\n",
    "condition_encoder = LabelEncoder()\n",
    "wind_direction_encoder = LabelEncoder()\n",
    "\n",
    "# Create copies of original columns before encoding\n",
    "cleaned_df['pitcher_handedness_str'] = cleaned_df['pitcher_handedness'].copy()\n",
    "cleaned_df['condition_str'] = cleaned_df['condition'].copy() \n",
    "cleaned_df['wind_direction_str'] = cleaned_df['wind_direction'].copy()\n",
    "\n",
    "# Fit and transform the categorical columns\n",
    "cleaned_df['pitcher_handedness'] = handedness_encoder.fit_transform(cleaned_df['pitcher_handedness_str'])\n",
    "cleaned_df['condition'] = condition_encoder.fit_transform(cleaned_df['condition_str'])\n",
    "cleaned_df['wind_direction'] = wind_direction_encoder.fit_transform(cleaned_df['wind_direction_str'])\n",
    "\n",
    "# Drop original string columns\n",
    "cleaned_df = cleaned_df.drop(columns=['pitcher_handedness_str', 'condition_str', 'wind_direction_str'])\n"
   ]
  },
  {
   "cell_type": "code",
   "execution_count": 151,
   "metadata": {},
   "outputs": [
    {
     "name": "stdout",
     "output_type": "stream",
     "text": [
      "Cleaned DF: (51485, 24)\n"
     ]
    }
   ],
   "source": [
    "print(\"Cleaned DF:\", cleaned_df.shape)"
   ]
  },
  {
   "cell_type": "code",
   "execution_count": 152,
   "metadata": {},
   "outputs": [],
   "source": [
    "cleaned_df.to_csv(\"../../data/training/pitcher_k_training.csv\", index=False)"
   ]
  }
 ],
 "metadata": {
  "kernelspec": {
   "display_name": "venv",
   "language": "python",
   "name": "python3"
  },
  "language_info": {
   "codemirror_mode": {
    "name": "ipython",
    "version": 3
   },
   "file_extension": ".py",
   "mimetype": "text/x-python",
   "name": "python",
   "nbconvert_exporter": "python",
   "pygments_lexer": "ipython3",
   "version": "3.13.2"
  }
 },
 "nbformat": 4,
 "nbformat_minor": 2
}
